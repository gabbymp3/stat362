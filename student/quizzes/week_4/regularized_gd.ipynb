{
 "cells": [
  {
   "cell_type": "raw",
   "id": "923aee8b-9063-41e2-8387-ccb34025dc70",
   "metadata": {
    "vscode": {
     "languageId": "raw"
    }
   },
   "source": [
    "---\n",
    "title: \"Quiz 5: Regularized Gradient Descent for Linear Regression\"\n",
    "format:\n",
    "  html:\n",
    "    toc: true\n",
    "    toc-title: Contents\n",
    "    number-sections: true\n",
    "    toc-depth: 4\n",
    "    code-fold: show\n",
    "    self-contained: true\n",
    "jupyter: python3\n",
    "---"
   ]
  },
  {
   "cell_type": "markdown",
   "id": "62cdb3da",
   "metadata": {},
   "source": [
    "##  Learning Objectives\n",
    "\n",
    "By the end of this comprehensive lab, you will master the following key concepts and skills:\n",
    "\n",
    "### Theoretical Understanding\n",
    "* **Grasp the overfitting problem**: Understand how complex models can memorize training data but fail to generalize\n",
    "* **Learn regularization fundamentals**: Discover how L1 and L2 penalties constrain model complexity\n",
    "* **Mathematical foundations**: Derive and understand the modified cost functions and gradient formulas for regularized regression\n",
    "\n",
    "### Implementation Mastery\n",
    "* **Extend cost functions**: Add L1 (Lasso) and L2 (Ridge) regularization terms to prevent overfitting\n",
    "* **Vectorized gradient descent**: Implement efficient, matrix-based gradient descent algorithms for both regularization types  \n",
    "* **Handle non-differentiability**: Navigate the challenges of L1 regularization's non-smooth optimization landscape\n",
    "* **Professional coding practices**: Write clean, documented, and efficient machine learning code\n",
    "\n",
    "### Practical Application\n",
    "* **Real overfitting scenario**: Work with a deliberately overfitted polynomial regression model\n",
    "* **Hyperparameter tuning**: Explore how regularization strength (λ) affects model behavior\n",
    "* **Scikit-learn integration**: Leverage industry-standard Lasso and Ridge implementations\n",
    "* **Performance evaluation**: Use RMSE and learning curves to assess model quality\n",
    "\n",
    "### Comparative Analysis\n",
    "* **Method comparison**: Systematically compare custom implementations vs. scikit-learn\n",
    "* **L1 vs L2 analysis**: Understand when to use Lasso (feature selection) vs Ridge (parameter shrinkage)\n",
    "* **Bias-variance tradeoff**: Observe how regularization balances underfitting and overfitting\n",
    "* **Convergence behavior**: Analyze training vs. test performance across different approaches\n",
    "\n",
    "### Key Insights You'll Gain\n",
    "* Why regularization is essential for small datasets and high-dimensional features\n",
    "* How L1 regularization promotes sparsity (automatic feature selection)\n",
    "* Why L2 regularization provides smoother, more stable solutions\n",
    "* When to choose custom implementations vs. pre-built libraries in real-world projects"
   ]
  },
  {
   "cell_type": "markdown",
   "id": "42a58cd4",
   "metadata": {},
   "source": [
    "## Essential Libraries and Dependencies\n",
    "\n",
    "We'll import the core libraries needed for this comprehensive regularization lab:\n",
    "\n",
    "- **NumPy & Matplotlib**: Numerical computing and data visualization\n",
    "- **Pandas**: Data manipulation and analysis framework\n",
    "- **Scikit-learn**: Professional ML implementations (Lasso, Ridge, StandardScaler)\n",
    "- **Math & Copy**: Utility functions for mathematical operations and object copying "
   ]
  },
  {
   "cell_type": "code",
   "execution_count": 1,
   "id": "393fb92e-6a73-44b8-97c2-4ee7aa19345a",
   "metadata": {},
   "outputs": [],
   "source": [
    "import numpy as np\n",
    "import matplotlib.pyplot as plt\n",
    "import pandas as pd\n",
    "import copy, math\n",
    "from sklearn.linear_model import Lasso, Ridge\n",
    "from sklearn.preprocessing import StandardScaler"
   ]
  },
  {
   "cell_type": "markdown",
   "id": "193f3d2b",
   "metadata": {},
   "source": [
    "## Synthetic Dataset Creation: Setting Up for Overfitting\n",
    "\n",
    "**Educational Purpose**: We'll deliberately create a scenario prone to overfitting:\n",
    "\n",
    "- **Small sample size** (only ~10% for training)\n",
    "- **High-dimensional features** (polynomial terms up to x^15)\n",
    "- **Noisy target function** (sine wave + random noise)\n",
    "\n",
    "This setup perfectly demonstrates why regularization is essential in machine learning!"
   ]
  },
  {
   "cell_type": "code",
   "execution_count": 2,
   "id": "fda1d729",
   "metadata": {},
   "outputs": [
    {
     "data": {
      "image/png": "[encoded data removed]",
      "text/plain": [
       "<Figure size 640x480 with 1 Axes>"
      ]
     },
     "metadata": {},
     "output_type": "display_data"
    }
   ],
   "source": [
    "#Define input array with angles from 60deg to 300deg converted to radians\n",
    "x = np.array([i*np.pi/60 for i in range(120)])\n",
    "#x = np.array([i*np.pi/180 for i in range(360)])\n",
    "\n",
    "np.random.seed(10)  #Setting seed for reproducibility\n",
    "y = np.sin(x) + np.random.normal(0,0.15,len(x))\n",
    "data = pd.DataFrame(np.column_stack([x,y]),columns=['x','y'])\n",
    "plt.plot(data['x'],data['y'],'.')\n",
    "plt.show()"
   ]
  },
  {
   "cell_type": "code",
   "execution_count": 3,
   "id": "5df268c1",
   "metadata": {},
   "outputs": [
    {
     "name": "stdout",
     "output_type": "stream",
     "text": [
      "         x         y       x_2       x_3       x_4           x_5  \\\n",
      "0  0.00000  0.199738  0.000000  0.000000  0.000000  0.000000e+00   \n",
      "1  0.05236  0.159628  0.002742  0.000144  0.000008  3.935438e-07   \n",
      "2  0.10472 -0.127282  0.010966  0.001148  0.000120  1.259340e-05   \n",
      "3  0.15708  0.155177  0.024674  0.003876  0.000609  9.563115e-05   \n",
      "4  0.20944  0.301112  0.043865  0.009187  0.001924  4.029889e-04   \n",
      "\n",
      "            x_6           x_7           x_8           x_9          x_10  \\\n",
      "0  0.000000e+00  0.000000e+00  0.000000e+00  0.000000e+00  0.000000e+00   \n",
      "1  2.060591e-08  1.078923e-09  5.649226e-11  2.957928e-12  1.548767e-13   \n",
      "2  1.318778e-06  1.381021e-07  1.446202e-08  1.514459e-09  1.585938e-10   \n",
      "3  1.502171e-05  2.359604e-06  3.706457e-07  5.822090e-08  9.145317e-09   \n",
      "4  8.440179e-05  1.767707e-05  3.702277e-06  7.754031e-07  1.624000e-07   \n",
      "\n",
      "           x_11          x_12          x_13          x_14          x_15  \n",
      "0  0.000000e+00  0.000000e+00  0.000000e+00  0.000000e+00  0.000000e+00  \n",
      "1  8.109328e-15  4.246034e-16  2.223218e-17  1.164074e-18  6.095079e-20  \n",
      "2  1.660790e-11  1.739176e-12  1.821260e-13  1.907219e-14  1.997235e-15  \n",
      "3  1.436543e-09  2.256517e-10  3.544528e-11  5.567731e-12  8.745772e-13  \n",
      "4  3.401299e-08  7.123663e-09  1.491976e-09  3.124788e-10  6.544541e-11  \n"
     ]
    }
   ],
   "source": [
    "for i in range(2,16):  #power of 1 is already there\n",
    "    colname = 'x_%d'%i      #new var will be x_power\n",
    "    data[colname] = data['x']**i\n",
    "print(data.head())"
   ]
  },
  {
   "cell_type": "code",
   "execution_count": 4,
   "id": "428e4dd3",
   "metadata": {},
   "outputs": [
    {
     "name": "stdout",
     "output_type": "stream",
     "text": [
      "Number of observations in the training data: 7\n",
      "Number of observations in the test data: 113\n"
     ]
    }
   ],
   "source": [
    "# split into train and test \n",
    "np.random.seed(123)\n",
    "# split the data into train and test, less data is prone to overfitting, so we will only use  10% data for training\n",
    "mask = np.random.rand(len(data)) < 0.1\n",
    "train = data[mask]\n",
    "test = data[~mask]\n",
    "print('Number of observations in the training data:', len(train))\n",
    "print('Number of observations in the test data:',len(test))"
   ]
  },
  {
   "cell_type": "code",
   "execution_count": 5,
   "id": "5295b771",
   "metadata": {},
   "outputs": [],
   "source": [
    "# split feature and target\n",
    "X_train = train.drop('y', axis=1).values\n",
    "y_train = train['y'].values\n",
    "X_test = test.drop('y', axis=1).values\n",
    "y_test = test['y'].values"
   ]
  },
  {
   "cell_type": "code",
   "execution_count": 6,
   "id": "d1222509",
   "metadata": {},
   "outputs": [
    {
     "data": {
      "text/plain": [
       "[<matplotlib.lines.Line2D at 0x28a564550>]"
      ]
     },
     "execution_count": 6,
     "metadata": {},
     "output_type": "execute_result"
    },
    {
     "data": {
      "image/png": "[encoded data removed]",
      "text/plain": [
       "<Figure size 640x480 with 1 Axes>"
      ]
     },
     "metadata": {},
     "output_type": "display_data"
    }
   ],
   "source": [
    "plt.plot(X_train[:,0], y_train, 'b.')   "
   ]
  },
  {
   "cell_type": "markdown",
   "id": "76a4123d",
   "metadata": {},
   "source": [
    "## Critical Observation: The Perfect Storm for Overfitting\n",
    "\n",
    "This is a textbook case where regularization becomes absolutely essential!\n",
    "\n",
    "Notice the dangerous combination we've created:\n",
    "\n",
    "- **Extremely small training set**: Only ~7-12 training instances\n",
    "   - No regularization means unlimited parameter growth\n",
    "\n",
    "\n",
    "- **High feature dimensionality**: 15 polynomial features  \n",
    "   - Each polynomial term can memorize individual training points\n",
    "\n",
    "- **Complex underlying pattern**: Sine wave with noise\n",
    "   \n",
    "\n",
    "**Why this leads to overfitting:**\n",
    "\n",
    "- The model has more parameters (15) than training examples (~7-12)"
   ]
  },
  {
   "cell_type": "code",
   "execution_count": 7,
   "id": "29f67140",
   "metadata": {},
   "outputs": [],
   "source": [
    "# do standardization\n",
    "scaler = StandardScaler()\n",
    "X_train_scaled = scaler.fit_transform(X_train)\n",
    "X_test_scaled = scaler.transform(X_test)\n"
   ]
  },
  {
   "cell_type": "markdown",
   "id": "7e68724f",
   "metadata": {},
   "source": [
    "## Baseline Implementation: Vanilla Gradient Descent\n",
    "\n",
    "### Prerequisites: Building on Previous Knowledge\n",
    "\n",
    "Before we add regularization, let's establish our baseline with standard gradient descent. \n",
    "\n",
    "**Key Requirement**: Modified to track both training AND test performance to demonstrate overfitting.\n",
    "\n",
    "**Your Task**: Implement the core gradient descent functions from your previous lab:\n",
    "\n",
    "- `compute_cost_matrix()`: Calculate MSE cost using vectorization\n",
    "- `gradient_descent_matrix()`: Main optimization loop\n",
    "- `compute_gradient_matrix()`: Compute gradients efficiently "
   ]
  },
  {
   "cell_type": "code",
   "execution_count": 8,
   "id": "b77bd94d",
   "metadata": {},
   "outputs": [],
   "source": [
    "def compute_cost_matrix(X, y, w):\n",
    "    \"\"\"\n",
    "    Computes the Mean Squared Error cost for linear regression using vectorization\n",
    "    \n",
    "    Mathematical Formula: J(w) = (1/2m) * ||Xw - y||²\n",
    "    \n",
    "    Args:\n",
    "      X (ndarray (m,n+1)): Feature matrix, m training examples with n+1 features (including bias)\n",
    "      y (ndarray (m,)): Target values for training examples\n",
    "      w (ndarray (n+1,)): Model parameters (weights + bias)\n",
    "      \n",
    "    Returns:\n",
    "      cost (scalar): Mean squared error cost\n",
    "      \n",
    "\n",
    "    Implementation Hint:    return cost\n",
    "\n",
    "      Use vectorized operations: (X @ w - y).T @ (X @ w - y) / (2*m)    \n",
    "\n",
    "    \"\"\"    # Formula: J = (1/2m) * (predictions - targets)^2\n",
    "    # TODO: Implement vectorized MSE cost calculation\n",
    "    m = X.shape[0]\n",
    "    error = X @ w - y\n",
    "    cost = error.T @ error / (2*m)\n",
    "    return cost"
   ]
  },
  {
   "cell_type": "code",
   "execution_count": 9,
   "id": "e76c04fd",
   "metadata": {},
   "outputs": [],
   "source": [
    "def compute_gradient_matrix(X, y, w):\n",
    "    \"\"\"\n",
    "    Computes the gradient of MSE cost w.r.t. parameters using vectorization\n",
    "    \n",
    "    Mathematical Formula: ∇J(w) = (1/m) * X.T @ (Xw - y)\n",
    "    \n",
    "    Args:\n",
    "      X (ndarray (m,n+1)): Feature matrix with bias column\n",
    "      y (ndarray (m,)): Target values \n",
    "      w (ndarray (n+1,)): Current model parameters\n",
    "      \n",
    "    Returns:\n",
    "      dj_dw (ndarray (n+1,)): Gradient vector for all parameters\n",
    "      \n",
    "    Implementation Hint:\n",
    "\n",
    "      Vectorized form avoids loops: X.T @ (predictions - targets) / m    return dj_dw\n",
    "\n",
    "    \"\"\"    \n",
    "\n",
    "    # TODO: Implement vectorized gradient calculation    # Formula: dJ/dw = (1/m) * X.T * (X*w - y)\n",
    "\n",
    "    m = X.shape[0]\n",
    "    error = X @ w - y\n",
    "    dj_dw = (X.T @ error) / m\n",
    "    return dj_dw"
   ]
  },
  {
   "cell_type": "markdown",
   "id": "aa44b134",
   "metadata": {},
   "source": [
    "## Enhanced Gradient Descent: Tracking Overfitting in Real-Time\n",
    "\n",
    "- Return both cost histories for visualization\n",
    "\n",
    "**Critical Modification**: We need to monitor BOTH training and test performance simultaneously to observe overfitting as it happens.\n",
    "\n",
    "- Print progress every 1000 iterations for monitoring\n",
    "- Calculate test cost at each iteration (without updating weights on test data)\n",
    "\n",
    "**Key Requirements:**\n",
    "\n",
    "- Track training cost at each iteration"
   ]
  },
  {
   "cell_type": "code",
   "execution_count": 10,
   "id": "4a36c343",
   "metadata": {},
   "outputs": [],
   "source": [
    "def gradient_descent_matrix(X, y, X_test, y_test, w_in, alpha, num_iters): \n",
    "    \"\"\"\n",
    "    Performs batch gradient descent to learn w. Updates w by taking \n",
    "    num_iters gradient steps with learning rate alpha\n",
    "    \n",
    "    Args:\n",
    "      X (ndarray (?,n+1))   : Training set, ? examples with n features\n",
    "      y (ndarray (?,))    : target values in test set\n",
    "      X_test (ndarray (?,n+1))   : Test set, ? examples with n features\n",
    "      y_test (ndarray (?,))    : target values in test set\n",
    "      w_in (ndarray (n+1,)) : initial model parameters  \n",
    "      alpha (float)       : Learning rate\n",
    "      num_iters (int)     : number of iterations to run gradient descent\n",
    "      \n",
    "    Returns:\n",
    "      w (ndarray (n+1,)) : Updated values of parameters\n",
    "      J_history           : Cost of the model on the training set after each iteration\n",
    "      test_J_history      : Cost of the model on test set after each iteration\n",
    "      \"\"\"\n",
    "    \n",
    "    # implement the batch gradient descent algorithm using the compute_gradient and compute_cost functions\n",
    "\n",
    "    J_history = []\n",
    "    test_J_history = []\n",
    "\n",
    "    w = copy.deepcopy(w_in)\n",
    "    for i in range(num_iters):\n",
    "        gradient = compute_gradient_matrix(X, y, w)\n",
    "        w = w - alpha * gradient\n",
    "        cost = compute_cost_matrix(X, y, w)\n",
    "        test_cost = compute_cost_matrix(X_test, y_test, w)\n",
    "        J_history.append(cost)\n",
    "        test_J_history.append(test_cost)\n",
    "        if i % 1000 == 0:\n",
    "            print(f\"Iteration {i:4}: Train Cost {cost:8.2f} Test Cost {test_cost:8.2f}\")\n",
    "    \n",
    "    return w, J_history, test_J_history"
   ]
  },
  {
   "cell_type": "markdown",
   "id": "1c176ebc",
   "metadata": {},
   "source": [
    "## Testing Your Implementation: Demonstrating Overfitting\n",
    "\n",
    "**Expected Outcome**: You should observe the training cost decreasing while test cost increases - classic overfitting!\n",
    "\n",
    "**Experiment Parameters:**\n",
    "\n",
    "- Learning rate: `alpha = 0.1` (aggressive for faster convergence)\n",
    "- Data: Use standardized features (`X_train_scaled`, `X_test_scaled`)\n",
    "- Iterations: `num_iters = 50000` (ensure full convergence)"
   ]
  },
  {
   "cell_type": "code",
   "execution_count": 11,
   "id": "d7a34a06",
   "metadata": {},
   "outputs": [
    {
     "name": "stdout",
     "output_type": "stream",
     "text": [
      "Iteration    0: Train Cost     0.19 Test Cost     0.21\n",
      "Iteration 1000: Train Cost     0.01 Test Cost     0.08\n",
      "Iteration 2000: Train Cost     0.01 Test Cost     0.07\n",
      "Iteration 3000: Train Cost     0.01 Test Cost     0.06\n",
      "Iteration 4000: Train Cost     0.01 Test Cost     0.05\n",
      "Iteration 5000: Train Cost     0.00 Test Cost     0.04\n",
      "Iteration 6000: Train Cost     0.00 Test Cost     0.04\n",
      "Iteration 7000: Train Cost     0.00 Test Cost     0.04\n",
      "Iteration 8000: Train Cost     0.00 Test Cost     0.04\n",
      "Iteration 9000: Train Cost     0.00 Test Cost     0.03\n",
      "Iteration 10000: Train Cost     0.00 Test Cost     0.03\n",
      "Iteration 11000: Train Cost     0.00 Test Cost     0.03\n",
      "Iteration 12000: Train Cost     0.00 Test Cost     0.03\n",
      "Iteration 13000: Train Cost     0.00 Test Cost     0.03\n",
      "Iteration 14000: Train Cost     0.00 Test Cost     0.04\n",
      "Iteration 15000: Train Cost     0.00 Test Cost     0.04\n",
      "Iteration 16000: Train Cost     0.00 Test Cost     0.04\n",
      "Iteration 17000: Train Cost     0.00 Test Cost     0.04\n",
      "Iteration 18000: Train Cost     0.00 Test Cost     0.04\n",
      "Iteration 19000: Train Cost     0.00 Test Cost     0.04\n",
      "Iteration 20000: Train Cost     0.00 Test Cost     0.04\n",
      "Iteration 21000: Train Cost     0.00 Test Cost     0.04\n",
      "Iteration 22000: Train Cost     0.00 Test Cost     0.04\n",
      "Iteration 23000: Train Cost     0.00 Test Cost     0.04\n",
      "Iteration 24000: Train Cost     0.00 Test Cost     0.04\n",
      "Iteration 25000: Train Cost     0.00 Test Cost     0.04\n",
      "Iteration 26000: Train Cost     0.00 Test Cost     0.04\n",
      "Iteration 27000: Train Cost     0.00 Test Cost     0.05\n",
      "Iteration 28000: Train Cost     0.00 Test Cost     0.05\n",
      "Iteration 29000: Train Cost     0.00 Test Cost     0.05\n",
      "Iteration 30000: Train Cost     0.00 Test Cost     0.05\n",
      "Iteration 31000: Train Cost     0.00 Test Cost     0.05\n",
      "Iteration 32000: Train Cost     0.00 Test Cost     0.05\n",
      "Iteration 33000: Train Cost     0.00 Test Cost     0.05\n",
      "Iteration 34000: Train Cost     0.00 Test Cost     0.05\n",
      "Iteration 35000: Train Cost     0.00 Test Cost     0.05\n",
      "Iteration 36000: Train Cost     0.00 Test Cost     0.05\n",
      "Iteration 37000: Train Cost     0.00 Test Cost     0.05\n",
      "Iteration 38000: Train Cost     0.00 Test Cost     0.05\n",
      "Iteration 39000: Train Cost     0.00 Test Cost     0.05\n",
      "Iteration 40000: Train Cost     0.00 Test Cost     0.05\n",
      "Iteration 41000: Train Cost     0.00 Test Cost     0.05\n",
      "Iteration 42000: Train Cost     0.00 Test Cost     0.05\n",
      "Iteration 43000: Train Cost     0.00 Test Cost     0.05\n",
      "Iteration 44000: Train Cost     0.00 Test Cost     0.05\n",
      "Iteration 45000: Train Cost     0.00 Test Cost     0.05\n",
      "Iteration 46000: Train Cost     0.00 Test Cost     0.05\n",
      "Iteration 47000: Train Cost     0.00 Test Cost     0.05\n",
      "Iteration 48000: Train Cost     0.00 Test Cost     0.05\n",
      "Iteration 49000: Train Cost     0.00 Test Cost     0.05\n",
      "w found by gradient descent: [-0.09443169  1.45101057 -3.31138286 -1.46580412  0.4990378   1.35292376\n",
      "  1.43239255  1.15467054  0.76908495  0.3934165   0.07228946 -0.18478828\n",
      " -0.38303082 -0.53245842 -0.64349206 -0.72525638]\n"
     ]
    }
   ],
   "source": [
    "# Do the gradient descent with the scaled data\n",
    "# add a column of ones to the X_train\n",
    "X_train_scaled_1 = np.column_stack((np.ones(X_train_scaled.shape[0]), X_train_scaled))\n",
    "X_test_scaled_1 = np.column_stack((np.ones(X_test_scaled.shape[0]), X_test_scaled))\n",
    "\n",
    "# initialize the model parameters to 0\n",
    "w_initial = np.zeros(X_train_scaled_1.shape[1])\n",
    "# run the gradient descent algorithm for 1000 iterations with a learning rate of 0.01 and lambda = 0.1\n",
    "alpha = 0.1\n",
    "num_iters = 50000\n",
    "w_vanilla, J_history, test_J_history = gradient_descent_matrix(X_train_scaled_1, y_train, X_test_scaled_1, y_test, w_initial, alpha, num_iters)\n",
    "\n",
    "print(f\"w found by gradient descent: {w_vanilla}\")"
   ]
  },
  {
   "cell_type": "code",
   "execution_count": 12,
   "id": "f55dfe84",
   "metadata": {},
   "outputs": [
    {
     "data": {
      "image/png": "[encoded data removed]",
      "text/plain": [
       "<Figure size 1000x500 with 2 Axes>"
      ]
     },
     "metadata": {},
     "output_type": "display_data"
    }
   ],
   "source": [
    "# putting the learning curve to show the overfitting issue of the model\n",
    "fig, axs = plt.subplots(1, 2, figsize=(10, 5))\n",
    "axs[0].plot(J_history, label='Training')\n",
    "axs[0].plot(test_J_history, label='Test')\n",
    "axs[0].set_xlabel('Iterations')\n",
    "axs[0].set_ylabel('Cost')\n",
    "axs[0].set_title('Cost vs. Iterations')\n",
    "axs[0].legend()\n",
    "\n",
    "axs[1].plot(J_history[5000:], label='Training')\n",
    "axs[1].plot(test_J_history[5000:], label='Test')\n",
    "axs[1].set_xlabel('Iterations')\n",
    "axs[1].set_ylabel('Cost')\n",
    "axs[1].set_title('Cost vs. Iterations after 5000 iterations')\n",
    "axs[1].legend()\n",
    "\n",
    "plt.show()"
   ]
  },
  {
   "cell_type": "code",
   "execution_count": 13,
   "id": "9a719dc3",
   "metadata": {},
   "outputs": [
    {
     "data": {
      "image/png": "[encoded data removed]",
      "text/plain": [
       "<Figure size 1000x500 with 2 Axes>"
      ]
     },
     "metadata": {},
     "output_type": "display_data"
    }
   ],
   "source": [
    "# plot the model on the train and test data\n",
    "fig, axs = plt.subplots(1, 2, figsize=(10,5))\n",
    "fig.suptitle('Train and Test Data')\n",
    "axs[0].plot(X_train[:, 0:1], X_train_scaled_1 @ w_vanilla, 'r')\n",
    "axs[0].plot(X_train[:, 0:1], y_train, '.')\n",
    "axs[0].set_title('Train Data')\n",
    "axs[1].plot(X_test[:, 0:1], X_test_scaled_1 @ w_vanilla, 'g')\n",
    "axs[1].plot(X_test[:, 0:1], y_test, '.')\n",
    "axs[1].set_title('Test Data')\n",
    "plt.show()\n"
   ]
  },
  {
   "cell_type": "code",
   "execution_count": 14,
   "id": "6164dbee",
   "metadata": {},
   "outputs": [
    {
     "name": "stdout",
     "output_type": "stream",
     "text": [
      "Final training RMSE:  0.02750514893730219\n",
      "Final test RMSE:  0.22388332864957156\n"
     ]
    }
   ],
   "source": [
    "# output the final RMSE for the training and test set\n",
    "gd_rmse_train = math.sqrt(J_history[-1])\n",
    "gd_rmse_test = math.sqrt(test_J_history[-1])\n",
    "print(\"Final training RMSE: \",gd_rmse_train)\n",
    "print(\"Final test RMSE: \", gd_rmse_test)"
   ]
  },
  {
   "cell_type": "markdown",
   "id": "802e2472",
   "metadata": {},
   "source": [
    "## Analysis: Overfitting Confirmed!\n",
    "\n",
    "**The Solution**: Add regularization to constrain parameter growth and improve generalization. \n",
    "\n",
    "**What You Should Observe:**\n",
    "\n",
    "- **Training RMSE**: Very low (model memorized training data)\n",
    "  - **The Problem**: Our model learned the noise, not the underlying pattern!\n",
    "\n",
    "- **Test RMSE**: Much higher (poor generalization)\n",
    "\n",
    "- **Learning curves**: Training cost ↓, Test cost ↑ (diverging lines)\n",
    "- **Visualizations**: Perfect fit on training, erratic on test data"
   ]
  },
  {
   "cell_type": "markdown",
   "id": "4576e7ca",
   "metadata": {},
   "source": [
    "## Regularization: The Overfitting Solution\n",
    "\n",
    "**Core Concept**: Add a penalty term to the cost function that discourages large parameter values.\n",
    "\n",
    "**Why Regularization Works:**\n",
    "- **Constrains model complexity** by limiting parameter magnitude\n",
    "- **Improves generalization** by preventing memorization of training noise\n",
    "- **Provides smoothness** by preferring simpler, more stable solutions\n",
    "- **Reduces variance** while introducing controlled bias\n",
    "\n",
    "**Two Main Regularization Types:**\n",
    "- **L1 (Lasso)**: λ||w||₁ - Promotes sparsity, drives weights to exactly zero\n",
    "- **L2 (Ridge)**: λ||w||₂² - Shrinks weights smoothly, keeps all features active\n",
    "\n",
    "**Mathematical Intuition**: Both add penalty terms that grow with parameter magnitude, forcing the optimizer to balance fitting the data with keeping weights small.\n",
    "\n",
    "<b>Cost function for L1 regularized linear regression</b>\n",
    "\\begin{equation}\n",
    "J(w) = 1/2m \\sum_{i=1}^{m} (f_{\\mathbf{w}}(\\mathbf{x})^{(i)} - y^{(i)})^2 +\\lambda/2m\\sum_{j=1}^{n} |w_j|  \\tag{1}\n",
    "\\end{equation}\n",
    "\n",
    "**Vectorized L1 Regularized Cost Function with Summation**\n",
    "\n",
    "\\begin{equation}\n",
    "J(W) = \\frac{1}{2m} (XW - y)^T (XW - y) + \\lambda \\sum_{j=1}^{n} |w_j|   \\tag{2}\n",
    "\\end{equation}\n",
    "\n",
    "**L1 In Vectorized Form**\n",
    "\n",
    "\\begin{equation}\n",
    "J(W) = \\frac{1}{2m} (XW - y)^T (XW - y) + \\lambda \\| W \\|_1   \\tag{3}\n",
    "\\end{equation}\n",
    "\n",
    "<b>Cost function for L2 regularized linear regression</b>\n",
    "\n",
    "\\begin{equation}\n",
    "J(w) = 1/2m \\sum_{i=1}^{m} (f_{\\mathbf{w}}(\\mathbf{x})^{(i)} - y^{(i)})^2 +\\lambda/2m\\sum_{j=1}^{n} w_j^2   \\tag{4}\n",
    "\\end{equation}\n",
    "\n",
    "\n",
    "**Vectorized L2 Regularized Cost Function with Summation**\n",
    "\n",
    "\\begin{equation}\n",
    "J(W) = \\frac{1}{2m} (XW - y)^T (XW - y) + \\lambda \\sum_{j=1}^{n} w_j^2    \\tag{5}\n",
    "\\end{equation}\n",
    "\n",
    "**L2 Regularized Cost Function in Vectorized Form**\n",
    "\n",
    "\\begin{equation}\n",
    "J(W) = \\frac{1}{2m} (XW - y)^T (XW - y) + \\frac{\\lambda}{2} \\| W \\|_2^2    \\tag{6}\n",
    "\\end{equation}\n",
    "\n",
    "\n",
    "Compare this to the cost function without regularization (which you implemented in  a previous lab), which is of the form:\n",
    "\n",
    "\n",
    "\\begin{equation} \n",
    "J(W) = \\frac{1}{2m} (XW - y)^T (XW - y)    \\tag{7}\n",
    "\\end{equation}\n",
    "\n",
    "\n",
    "\n",
    "The difference is the regularization term,  <span style=\"color:red\">\n",
    "    $\\frac{\\lambda}{2m}  \\sum_{j=1}^{n} w_j^2$ </span> and <span style=\"color:red\">\n",
    "    $\\frac{\\lambda}{2m} \\sum_{j=1}^{n} |w_j|$ \n",
    "    \n",
    "Including this term encourages gradient descent to minimize the size of the parameters.\n",
    "\n",
    " **Note, in this example, the parameter $w_0$ is not regularized. This is standard practice.**"
   ]
  },
  {
   "cell_type": "markdown",
   "id": "2bd21f72",
   "metadata": {},
   "source": [
    "## Gradient descent with regularization\n",
    "The basic algorithm for running gradient descent does not change with regularization, it is:\n",
    "$$\\begin{align*}\n",
    "&\\text{repeat until convergence:} \\; \\lbrace \\\\\n",
    "&  \\; \\; \\;w_j = w_j -  \\alpha \\frac{\\partial J(\\mathbf{w})}{\\partial w_j} \\tag{1}  \\; & \\text{for j := 0..n} \\\\    \n",
    "&\\rbrace\n",
    "\\end{align*}$$\n",
    "Where each iteration performs simultaneous updates on $w_j$ for all $j$.\n",
    "\n",
    "What changes with regularization is computing the gradients. Let's try L2 regularization next"
   ]
  },
  {
   "cell_type": "markdown",
   "id": "bdee53d1",
   "metadata": {},
   "source": [
    "## Gradient For L2 regularization \n",
    "\n",
    "\\begin{equation}\n",
    "\\frac{\\partial J(w)}{\\partial w_j} = 1/m\\sum_{i=1}^{m}(f_{\\mathbf{w}}(\\mathbf{x})^{(i)} - y^{(i)}).x_j^{(i)} + (\\lambda/m)x_j^{(i)}  \\tag{8}\n",
    "\\end{equation}\n",
    "\n",
    "    \n",
    "The term which adds regularization is  the <span style=\"color:red\"> \n",
    "$\\frac{\\lambda}{m} w_j ^{(i)}$</span>, the parameter $w_0$ is not regularized\n",
    "\n",
    "**Vectorized form**\n",
    "\n",
    "\\begin{equation}\n",
    "W := W - \\alpha \\left( \\frac{1}{m} X^T (XW - y) + \\lambda W \\right)    \\tag{9}\n",
    "\\end{equation}\n",
    "\n"
   ]
  },
  {
   "cell_type": "markdown",
   "id": "62deb5eb",
   "metadata": {},
   "source": [
    "### Task 1: L2 Regularization Implementation (Ridge Regression)\n",
    "\n",
    "**Critical Note**: Do NOT regularize the bias term (w₀) - standard ML practice!\n",
    "\n",
    "**Objective**: Implement L2 regularization to combat overfitting through parameter shrinkage.\n",
    "\n",
    "- **Implementation**: Use vectorization for efficiency\n",
    "\n",
    "**Key Mathematical Changes:**- **Gradient**: Add λ * w regularization term to standard gradient\n",
    "- **Cost function**: Add λ/2 * ||w||₂² penalty term"
   ]
  },
  {
   "cell_type": "code",
   "execution_count": 15,
   "id": "330fd198",
   "metadata": {},
   "outputs": [],
   "source": [
    "def compute_cost_matrix_reg_l2(X, y, w, lambda_reg):\n",
    "    \"\"\"\n",
    "    🎯 Computes L2 regularized cost for linear regression (Ridge Regression)\n",
    "    \n",
    "    Mathematical Formula: \n",
    "    J(w) = (1/2m) * ||Xw - y||² + (λ/2) * ||w[1:]||²\n",
    "    \n",
    "    Args:\n",
    "      X (ndarray (m,n)): Feature matrix (including bias column)\n",
    "      y (ndarray (m,)): Target values\n",
    "      w (ndarray (n,)): Model parameters [bias, w1, w2, ..., wn]\n",
    "      lambda_reg (float): Regularization strength (λ)\n",
    "      \n",
    "    Returns:\n",
    "      cost (scalar): Total cost = MSE + L2 penalty\n",
    "      \n",
    "    Implementation Notes:\n",
    "\n",
    "      - Don't regularize bias term: w[0] excluded from penalty\n",
    "\n",
    "      - Use w[1:] for regularization term   \n",
    "\n",
    "      - Vectorized: λ/2 * np.sum(w[1:]**2)    # cost = MSE_cost + (lambda_reg/2) * sum(w[1:]^2)\n",
    "\n",
    "    \"\"\"    # TODO: Implement L2 regularized cost\n",
    "\n",
    "    m = X.shape[0]\n",
    "    error = X @ w - y\n",
    "    mse_cost = error.T @ error / (2*m)\n",
    "    reg_cost = (lambda_reg/2) * np.sum(w[1:]**2) \n",
    "    cost = mse_cost + reg_cost\n",
    "    return cost"
   ]
  },
  {
   "cell_type": "code",
   "execution_count": 16,
   "id": "980326ad",
   "metadata": {},
   "outputs": [],
   "source": [
    "# Function to calculate the gradient with L2 regularization\n",
    "def compute_gradient_matrix_reg_l2(X, y, w, lambda_reg):\n",
    "    \"\"\"\n",
    "    Computes the gradient for linear regression with L2 regularization\n",
    "    \n",
    "    Args:\n",
    "      X (ndarray (m,n)): Data, m examples with n features\n",
    "      y (ndarray (m,)) : target values\n",
    "      w (ndarray (n,)) : model parameters\n",
    "      lambda_reg (float): regularization parameter\n",
    "      \n",
    "    Returns\n",
    "      dj_dw (ndarray (n,1)): The gradient of the cost w.r.t. the parameters w.\n",
    "    \"\"\"\n",
    "    # use vectorization to implement the gradient for linear regression with L2 regularization, do not regularize the bias term\n",
    "    \n",
    "    m = X.shape[0]\n",
    "    error = X @ w - y\n",
    "    dj_dw = (X.T @ error) / m\n",
    "    reg_term = np.zeros_like(w)\n",
    "    reg_term[1:] = lambda_reg * w[1:]\n",
    "    dj_dw = dj_dw + reg_term\n",
    "    return dj_dw\n",
    " \n"
   ]
  },
  {
   "cell_type": "code",
   "execution_count": 17,
   "id": "0f214e5d",
   "metadata": {},
   "outputs": [],
   "source": [
    "# Function to perform gradient descent with L2 regularization\n",
    "def gradient_descent_matrix_reg_l2(X, y, X_test, y_test, w_in, alpha, num_iters, lambda_reg):\n",
    "    \"\"\"\n",
    "    Performs batch gradient descent to learn w. Updates w by taking \n",
    "    num_iters gradient steps with learning rate alpha\n",
    "    \n",
    "    Args:\n",
    "      X (ndarray (?,n+1))   : Training Data, m examples with n features\n",
    "      y (ndarray (?,))    : Training target values\n",
    "      X_test (ndarray (?,n+1))   : Test set, m examples with n features\n",
    "      y_test (ndarray (?,))    : target values in test set\n",
    "      w_in (ndarray (n+1,)) : initial model parameters  \n",
    "      alpha (float)       : Learning rate\n",
    "      num_iters (int)     : number of iterations to run gradient descent\n",
    "      lambda_reg (float)  : regularization parameter\n",
    "      \n",
    "    Returns:\n",
    "      w (ndarray (n+1,)) : Updated values of parameters\n",
    "      J_history           : Cost of the model after each iteration\n",
    "      test_J_history      : Cost of the model on test set after each iteration\n",
    "      \"\"\"\n",
    "    \n",
    "    # implement the batch gradient descent algorithm with L2 regularization using the compute_gradient and compute_cost functions\n",
    "    J_history = []\n",
    "    test_J_history = []\n",
    "    w = copy.deepcopy(w_in)\n",
    "    for i in range(num_iters):\n",
    "        gradient = compute_gradient_matrix_reg_l2(X, y, w, lambda_reg)\n",
    "        w = w - alpha * gradient\n",
    "        cost = compute_cost_matrix_reg_l2(X, y, w, lambda_reg)\n",
    "        test_cost = compute_cost_matrix_reg_l2(X_test, y_test, w, lambda_reg)\n",
    "        J_history.append(cost)\n",
    "        test_J_history.append(test_cost)\n",
    "   \n",
    "\n",
    "        # print cost every 5000 iterations\n",
    "        if i % 5000 == 0:\n",
    "            print(f\"Iteration {i:4}: Cost {cost:8.2f}   Test Cost {test_cost:8.2f}\")\n",
    "    return w, J_history, test_J_history\n"
   ]
  },
  {
   "cell_type": "code",
   "execution_count": 18,
   "id": "816463b8",
   "metadata": {},
   "outputs": [
    {
     "name": "stdout",
     "output_type": "stream",
     "text": [
      "Iteration    0: Cost     0.19   Test Cost     0.21\n",
      "Iteration 5000: Cost     0.01   Test Cost     0.07\n",
      "Iteration 10000: Cost     0.01   Test Cost     0.07\n",
      "Iteration 15000: Cost     0.01   Test Cost     0.07\n",
      "Iteration 20000: Cost     0.01   Test Cost     0.07\n",
      "Iteration 25000: Cost     0.01   Test Cost     0.07\n",
      "Iteration 30000: Cost     0.01   Test Cost     0.07\n",
      "Iteration 35000: Cost     0.01   Test Cost     0.07\n",
      "Iteration 40000: Cost     0.01   Test Cost     0.07\n",
      "Iteration 45000: Cost     0.01   Test Cost     0.07\n",
      "Iteration 50000: Cost     0.01   Test Cost     0.07\n",
      "Iteration 55000: Cost     0.01   Test Cost     0.07\n",
      "w found by gradient descent with regularization: [-0.09443169 -0.12710524 -0.84087173 -0.46145683 -0.04360064  0.18438483\n",
      "  0.26328053  0.2601221   0.22025551  0.16868462  0.11767676  0.07246361\n",
      "  0.03465799  0.00414512 -0.01991663 -0.03858886] \n"
     ]
    }
   ],
   "source": [
    "# initialize the model parameters to 0\n",
    "w = np.zeros(X_train_scaled_1.shape[1])\n",
    "# run the gradient descent algorithm for 1000 iterations with a learning rate of 0.01 and lambda = 0.1\n",
    "alpha = 0.1\n",
    "num_iters = 60000\n",
    "lambda_l2 = 0.004\n",
    "GD_L2_w, J_history, test_J_history = gradient_descent_matrix_reg_l2(X_train_scaled_1, y_train, X_test_scaled_1, y_test, w, alpha, num_iters, lambda_l2)\n",
    "print(f\"w found by gradient descent with regularization: {GD_L2_w} \")\n"
   ]
  },
  {
   "cell_type": "code",
   "execution_count": 19,
   "id": "2fd5d835",
   "metadata": {},
   "outputs": [
    {
     "data": {
      "image/png": "[encoded data removed]",
      "text/plain": [
       "<Figure size 640x480 with 1 Axes>"
      ]
     },
     "metadata": {},
     "output_type": "display_data"
    }
   ],
   "source": [
    "# plot the cost over the iterations\n",
    "plt.plot(J_history, label='Training')\n",
    "plt.plot(test_J_history, label='Test')\n",
    "plt.xlabel('Iterations')\n",
    "plt.ylabel('Cost')\n",
    "plt.title('Cost vs Iterations')\n",
    "plt.legend()\n",
    "plt.show()"
   ]
  },
  {
   "cell_type": "code",
   "execution_count": 20,
   "id": "4ffe4e6e",
   "metadata": {},
   "outputs": [
    {
     "data": {
      "image/png": "[encoded data removed]",
      "text/plain": [
       "<Figure size 1000x500 with 2 Axes>"
      ]
     },
     "metadata": {},
     "output_type": "display_data"
    }
   ],
   "source": [
    "# putting the above figures side by side for comparision, using subplots\n",
    "fig, axs = plt.subplots(1, 2, figsize=(10,5))\n",
    "fig.suptitle('Train and Test Data')\n",
    "axs[0].plot(X_train[:, 0:1], X_train_scaled_1 @ GD_L2_w, 'r')\n",
    "axs[0].plot(X_train[:, 0:1], y_train, '.')\n",
    "axs[0].set_title('Train Data')\n",
    "axs[1].plot(X_test[:, 0:1], X_test_scaled_1 @ GD_L2_w, 'g')\n",
    "axs[1].plot(X_test[:, 0:1], y_test, '.')\n",
    "axs[1].set_title('Test Data')\n",
    "plt.show()\n"
   ]
  },
  {
   "cell_type": "markdown",
   "id": "ea38b685",
   "metadata": {},
   "source": [
    "### Task2: output the final RMSE for the training and test set below for performance comparision at the end"
   ]
  },
  {
   "cell_type": "code",
   "execution_count": 21,
   "id": "55f35cbc",
   "metadata": {},
   "outputs": [
    {
     "name": "stdout",
     "output_type": "stream",
     "text": [
      "Final training RMSE:  0.0857852789515362\n",
      "Final test RMSE:  0.2511820456697551\n"
     ]
    }
   ],
   "source": [
    "# output the final RMSE for the training and test set\n",
    "gd_l2_rmse_train = math.sqrt((X_train_scaled_1 @ GD_L2_w - y_train).T @ (X_train_scaled_1 @ GD_L2_w - y_train) / (2*X_train_scaled_1.shape[0]))\n",
    "gd_l2_rmse_test = math.sqrt((X_test_scaled_1 @ GD_L2_w - y_test).T @ (X_test_scaled_1 @ GD_L2_w - y_test) / (2*X_test_scaled_1.shape[0]))\n",
    "print(\"Final training RMSE: \",gd_l2_rmse_train)\n",
    "print(\"Final test RMSE: \", gd_l2_rmse_test)\n"
   ]
  },
  {
   "cell_type": "markdown",
   "id": "b2020fc3",
   "metadata": {},
   "source": [
    "## Using L1 Regularization to fix the overfitting issue\n",
    "\n",
    "The L1 gradient formula can be found below.\n",
    "\n",
    "\\begin{equation}\n",
    "W := W - \\alpha \\left( \\frac{1}{m} X^T (XW - y) + \\lambda \\, \\text{sgn}(W) \\right)    \\tag{10}\n",
    "\\end{equation}\n",
    "\n",
    "\n",
    "### L1 Implementation Challenges: Understanding the Difficulties\n",
    "\n",
    "Using gradient descent for L1 regularization (Lasso) presents unique optimization challenges:\n",
    "\n",
    "#### Primary Challenge: Non-differentiability\n",
    "* **Problem**: The L1 penalty |w| is not differentiable at w = 0\n",
    "* **Impact**: Gradient becomes undefined at zero points, causing optimization instability\n",
    "* **Result**: Standard gradient descent may struggle near sparse solutions\n",
    "\n",
    "#### Professional Solutions:\n",
    "\n",
    "* **Coordinate Descent**: Update one parameter at a time (sklearn's approach)Let's implement L1 regularization and observe both its benefits and challenges!\n",
    "\n",
    "* **Subgradient Methods**: Use sign function approximation (our approach)\n",
    "\n",
    "* **Proximal Methods**: Advanced techniques for non-smooth optimization**Key Insight**: This is why professional libraries like sklearn use specialized algorithms rather than vanilla gradient descent for Lasso regression.\n",
    "\n",
    "* **Soft Thresholding**: Analytical solutions for certain cases\n",
    "\n",
    "We'll implement the subgradient method using `np.sign()` to approximate the L1 gradient. While this may show some convergence challenges, it demonstrates the core concepts and mathematical foundations.\n",
    "\n",
    "#### Our Educational Approach"
   ]
  },
  {
   "cell_type": "markdown",
   "id": "167df22d",
   "metadata": {},
   "source": [
    "### Task 3: L1 Regularization Implementation (Lasso Regression)\n",
    "\n",
    "**Expected Outcome**: Some polynomial features should be eliminated (coefficients → 0)!\n",
    "\n",
    "**Objective**: Implement L1 regularization for automatic feature selection and overfitting prevention.\n",
    "\n",
    "- **Sparsity**: Expect some coefficients to become exactly zero\n",
    "\n",
    "**Key Implementation Details:**\n",
    "\n",
    "- **Sign function**: Use np.sign() for gradient computation\n",
    "\n",
    "- **Cost function**: Add λ * ||w||₁ penalty term\n",
    "- **Gradient**: Add λ * sign(w) to standard gradient  "
   ]
  },
  {
   "cell_type": "code",
   "execution_count": 22,
   "id": "3453c9e9",
   "metadata": {},
   "outputs": [],
   "source": [
    "# Function to calculate the cost with L1 regularization\n",
    "def compute_cost_matrix_reg_l1(X, y, w, lambda_reg):\n",
    "    \"\"\"\n",
    "    Computes the cost for linear regression with L1 regularization\n",
    "    \n",
    "    Args:\n",
    "      X (ndarray (m,n)): Data, m examples with n features\n",
    "      y (ndarray (m,)) : target values\n",
    "      w (ndarray (n,)) : model parameters\n",
    "      lambda_reg (float): regularization parameter\n",
    "      \n",
    "    Returns\n",
    "      cost: (scalar)\n",
    "    \"\"\"\n",
    "    # use vectorization to implement the cost for linear regression with L1 regularization, do not regularize the bias term\n",
    "    m = X.shape[0]\n",
    "    error = X @ w - y\n",
    "    mse_cost = error.T @ error / (2*m)\n",
    "    reg_cost = lambda_reg * np.sum(np.abs(w[1:])) \n",
    "    cost = mse_cost + reg_cost\n",
    "    return cost"
   ]
  },
  {
   "cell_type": "code",
   "execution_count": 23,
   "id": "c1c4ee32",
   "metadata": {},
   "outputs": [],
   "source": [
    "# Function to calculate the gradient with L1 regularization\n",
    "def compute_gradient_matrix_reg_l1(X, y, w, lambda_reg):\n",
    "    \"\"\"\n",
    "    Computes the gradient for linear regression with L1 regularization\n",
    "    \n",
    "    Args:\n",
    "      X (ndarray (m,n)): Data, m examples with n features\n",
    "      y (ndarray (m,)) : target values\n",
    "      w (ndarray (n,)) : model parameters\n",
    "      lambda_reg (float): regularization parameter\n",
    "      \n",
    "    Returns\n",
    "      dj_dw (ndarray (n,1)): The gradient of the cost w.r.t. the parameters w.\n",
    "    \"\"\"\n",
    "    # use vectorization to implement the gradient for linear regression with L1 regularization, do not regularize the bias term\n",
    "    m = X.shape[0]\n",
    "    error = X @ w - y\n",
    "    dj_dw = (X.T @ error) / m\n",
    "    reg_term = np.zeros_like(w)\n",
    "    reg_term[1:] = lambda_reg * np.sign(w[1:])\n",
    "    dj_dw = dj_dw + reg_term\n",
    "    return dj_dw"
   ]
  },
  {
   "cell_type": "code",
   "execution_count": 24,
   "id": "d8a3b2ae",
   "metadata": {},
   "outputs": [],
   "source": [
    "# Function to perform gradient descent with L1 regularization\n",
    "def gradient_descent_matrix_reg_l1(X, y, X_test, y_test, w_in, alpha, num_iters, lambda_reg):\n",
    "    \"\"\"\n",
    "    Performs batch gradient descent to learn w. Updates w by taking \n",
    "    num_iters gradient steps with learning rate alpha\n",
    "    \n",
    "    Args:\n",
    "      X (ndarray (?,n+1))   : Training Data, m examples with n features\n",
    "      y (ndarray (?,))    : Training target values\n",
    "      X_test (ndarray (?,n+1))   : Test set, m examples with n features\n",
    "      y_test (ndarray (?,))    : target values in test set\n",
    "      w_in (ndarray (n+1,)) : initial model parameters  \n",
    "      alpha (float)       : Learning rate\n",
    "      num_iters (int)     : number of iterations to run gradient descent\n",
    "      lambda_reg (float)  : regularization parameter\n",
    "      \n",
    "    Returns:\n",
    "      w (ndarray (n+1,)) : Updated values of parameters\n",
    "      J_history           : Cost of the model after each iteration\n",
    "      test_J_history      : Cost of the model on test set after each iteration\n",
    "      \"\"\"\n",
    "    \n",
    "    # implement the batch gradient descent algorithm using the compute_gradient and compute_cost functions\n",
    "    J_history = []\n",
    "    test_J_history = []\n",
    "    w = copy.deepcopy(w_in)\n",
    "    for i in range(num_iters):\n",
    "        gradient = compute_gradient_matrix_reg_l1(X, y, w, lambda_reg)\n",
    "        w = w - alpha * gradient\n",
    "        cost = compute_cost_matrix_reg_l1(X, y, w, lambda_reg)\n",
    "        test_cost = compute_cost_matrix_reg_l1(X_test, y_test, w, lambda_reg)\n",
    "        J_history.append(cost)\n",
    "        test_J_history.append(test_cost)\n",
    "\n",
    "        # print cost every 5000 iterations\n",
    "        if i % 5000 == 0:\n",
    "            print(f\"Iteration {i:4}: Cost {cost:8.2f}   Test Cost {test_cost:8.2f}\")\n",
    "    return w, J_history, test_J_history\n",
    "       "
   ]
  },
  {
   "cell_type": "code",
   "execution_count": 25,
   "id": "6ddf6acd",
   "metadata": {},
   "outputs": [
    {
     "name": "stdout",
     "output_type": "stream",
     "text": [
      "Iteration    0: Cost     0.19   Test Cost     0.21\n",
      "Iteration 5000: Cost     0.02   Test Cost     0.08\n",
      "Iteration 10000: Cost     0.02   Test Cost     0.07\n",
      "Iteration 15000: Cost     0.02   Test Cost     0.07\n",
      "Iteration 20000: Cost     0.02   Test Cost     0.07\n",
      "Iteration 25000: Cost     0.02   Test Cost     0.07\n",
      "Iteration 30000: Cost     0.02   Test Cost     0.07\n",
      "Iteration 35000: Cost     0.02   Test Cost     0.07\n",
      "Iteration 40000: Cost     0.02   Test Cost     0.07\n",
      "Iteration 45000: Cost     0.02   Test Cost     0.07\n",
      "Iteration 50000: Cost     0.02   Test Cost     0.07\n",
      "Iteration 55000: Cost     0.02   Test Cost     0.07\n",
      "w found by gradient descent with L1 regularization: [-9.44316904e-02 -2.42660402e-04 -1.26770170e+00 -1.50046555e-04\n",
      "  2.27850348e-04  8.30161175e-04  7.19878654e-04  4.33345641e-01\n",
      "  5.63682830e-01  6.31180501e-02  7.47759075e-04  5.95705010e-04\n",
      "  4.08788838e-04  5.49690995e-04  4.09960494e-04  6.91874326e-04] \n"
     ]
    }
   ],
   "source": [
    "# initialize the model parameters to 0\n",
    "w_initial = np.zeros(X_train_scaled_1.shape[1])\n",
    "# run the gradient descent algorithm for 1000 iterations with a learning rate of 0.01 and lambda = 0.1\n",
    "alpha = 0.1\n",
    "num_iters = 60000\n",
    "lambda_l1 = 0.004\n",
    "GD_L1_w, J_history, test_J_history = gradient_descent_matrix_reg_l1(X_train_scaled_1, y_train, X_test_scaled_1, y_test, w_initial, alpha, num_iters, lambda_l1)\n",
    "print(f\"w found by gradient descent with L1 regularization: {GD_L1_w} \")\n"
   ]
  },
  {
   "cell_type": "code",
   "execution_count": 26,
   "id": "d506701d",
   "metadata": {},
   "outputs": [
    {
     "data": {
      "image/png": "[encoded data removed]",
      "text/plain": [
       "<Figure size 640x480 with 1 Axes>"
      ]
     },
     "metadata": {},
     "output_type": "display_data"
    }
   ],
   "source": [
    "# plot the cost over the iterations\n",
    "plt.plot(J_history, label='Training')\n",
    "plt.plot(test_J_history, label='Test')\n",
    "\n",
    "plt.xlabel('Iterations')\n",
    "plt.ylabel('Cost')\n",
    "plt.title('Cost vs Iterations')\n",
    "plt.legend()\n",
    "plt.show()"
   ]
  },
  {
   "cell_type": "code",
   "execution_count": 27,
   "id": "d45f7d54",
   "metadata": {},
   "outputs": [
    {
     "data": {
      "image/png": "[encoded data removed]",
      "text/plain": [
       "<Figure size 1000x500 with 2 Axes>"
      ]
     },
     "metadata": {},
     "output_type": "display_data"
    }
   ],
   "source": [
    "# putting the above figures side by side for comparision, using subplots\n",
    "fig, axs = plt.subplots(1, 2, figsize=(10,5))\n",
    "fig.suptitle('Train and Test Data')\n",
    "axs[0].plot(X_train[:, 0:1], X_train_scaled_1 @ GD_L1_w, 'r')\n",
    "axs[0].plot(X_train[:, 0:1], y_train, '.')\n",
    "axs[0].set_title('Train Data')\n",
    "axs[1].plot(X_test[:, 0:1], X_test_scaled_1 @ GD_L1_w, 'g')\n",
    "axs[1].plot(X_test[:, 0:1], y_test, '.')\n",
    "axs[1].set_title('Test Data')\n",
    "plt.show()\n"
   ]
  },
  {
   "cell_type": "markdown",
   "id": "ee37f372",
   "metadata": {},
   "source": [
    "### Task4: output the final RMSE for the training and test set below for performance comparision at the end"
   ]
  },
  {
   "cell_type": "code",
   "execution_count": 28,
   "id": "974a3e6d",
   "metadata": {},
   "outputs": [
    {
     "name": "stdout",
     "output_type": "stream",
     "text": [
      "Final training RMSE:  0.08346816108755611\n",
      "Final test RMSE:  0.2435447142672677\n"
     ]
    }
   ],
   "source": [
    "# output the final RMSE for the training and test set\n",
    "gd_l1_rmse_train = math.sqrt((X_train_scaled_1 @ GD_L1_w - y_train).T @ (X_train_scaled_1 @ GD_L1_w - y_train) / (2*X_train_scaled_1.shape[0]))\n",
    "gd_l1_rmse_test = math.sqrt((X_test_scaled_1 @ GD_L1_w - y_test).T @ (X_test_scaled_1 @ GD_L1_w - y_test) / (2*X_test_scaled_1.shape[0]))\n",
    "print(\"Final training RMSE: \",gd_l1_rmse_train)\n",
    "print(\"Final test RMSE: \", gd_l1_rmse_test)"
   ]
  },
  {
   "cell_type": "markdown",
   "id": "f2c2efc3",
   "metadata": {},
   "source": [
    "## Professional Implementation: Scikit-Learn's Optimized Algorithms\n",
    "\n",
    "\n",
    "**Why Compare with Sklearn?**\n",
    "\n",
    "- **Parameters**: Different hyperparameter conventions (alpha vs. lambda)\n",
    "\n",
    "- **Industry Standard**: Production-ready, optimized implementations\n",
    "- **Performance**: Optimized C/Fortran backends for speed\n",
    "\n",
    "- **Advanced Algorithms**: Coordinate descent for Lasso, efficient solvers for Ridge\n",
    "- **Stability**: Professional implementations handle edge cases better\n",
    "\n",
    "- **Performance Benchmark**: Compare your implementations with professional tools\n",
    "- **Convergence**: Sklearn may converge faster due to advanced optimization\n",
    "\n",
    "- **Real-World Relevance**: Understand when to build custom vs. use libraries\n"
   ]
  },
  {
   "cell_type": "markdown",
   "id": "38592310",
   "metadata": {},
   "source": [
    "### Task 5: Professional Ridge Regression with Scikit-Learn\n",
    "\n",
    "**Comparison Focus**: How do sklearn's parameters compare to your custom implementation?\n",
    "\n",
    "**Implementation Requirements:**\n",
    "\n",
    "- Use `Ridge(alpha=0.004, max_iter=10000)` for fair comparison- Extract learned parameters using `.coef_` and `.intercept_`\n",
    "\n",
    "- Fit on scaled training data: `X_train_scaled`, `y_train`- Predict on both training and test sets"
   ]
  },
  {
   "cell_type": "code",
   "execution_count": 29,
   "id": "a125153a",
   "metadata": {},
   "outputs": [
    {
     "name": "stdout",
     "output_type": "stream",
     "text": [
      "Learned intercept: -0.09443169035226882\n",
      "Learned parameters: [ 0.68317146 -2.07864713 -1.01132877  0.1916362   0.76887686  0.87940349\n",
      "  0.75488447  0.54324044  0.32025102  0.11897939 -0.04962267 -0.18499861\n",
      " -0.29087521 -0.37226435 -0.4340992 ]\n"
     ]
    }
   ],
   "source": [
    "# use Ridge regression from sklearn to learn the model parameters\n",
    "# alpha=0.004, max_iter=10000 \n",
    "ridge_model = Ridge(alpha=0.004, max_iter=10000)\n",
    "ridge_model.fit(X_train_scaled, y_train)\n",
    "train_preds = ridge_model.predict(X_train_scaled)\n",
    "test_preds = ridge_model.predict(X_test_scaled)\n",
    "\n",
    "print(\"Learned intercept:\", ridge_model.intercept_)\n",
    "print(\"Learned parameters:\", ridge_model.coef_)\n",
    "\n",
    "\n",
    "\n"
   ]
  },
  {
   "cell_type": "markdown",
   "id": "0531a17c",
   "metadata": {},
   "source": [
    "### Task6: Output the RMSE for the Ridge regression"
   ]
  },
  {
   "cell_type": "code",
   "execution_count": 30,
   "id": "b4800e0c",
   "metadata": {},
   "outputs": [
    {
     "name": "stdout",
     "output_type": "stream",
     "text": [
      "Final training RMSE:  0.06859784497256222\n",
      "Final test RMSE:  0.25930279992193206\n"
     ]
    }
   ],
   "source": [
    "# output the final RMSE for the training and test set\n",
    "from sklearn.metrics import mean_squared_error\n",
    "ridge_train_rmse = math.sqrt(mean_squared_error(y_train, train_preds))\n",
    "ridge_test_rmse = math.sqrt(mean_squared_error(y_test, test_preds))\n",
    "print(\"Final training RMSE: \",ridge_train_rmse)\n",
    "print(\"Final test RMSE: \", ridge_test_rmse)\n"
   ]
  },
  {
   "cell_type": "markdown",
   "id": "7546a2a5",
   "metadata": {},
   "source": [
    "### Task 7: Professional Lasso Regression with Scikit-Learn\n",
    "\n",
    "**Sparsity Investigation**: Which polynomial terms does Lasso eliminate as irrelevant?\n",
    "\n",
    "**Implementation Requirements:**\n",
    "\n",
    "- Use `Lasso(alpha=0.004, max_iter=10000)` for consistency\n",
    "- Compare sparsity pattern with your custom L1 implementation\n",
    "\n",
    "- Apply to standardized data for proper regularization\n",
    "  \n",
    "**Key Analysis**: Count how many coefficients are exactly zero"
   ]
  },
  {
   "cell_type": "code",
   "execution_count": 31,
   "id": "854ecc95",
   "metadata": {},
   "outputs": [
    {
     "name": "stdout",
     "output_type": "stream",
     "text": [
      "Learned intercept: -0.09443169035226888\n",
      "Learned parameters: [-0.         -1.27800488 -0.          0.          0.          0.\n",
      "  0.57624013  0.49526164  0.          0.          0.          0.\n",
      "  0.          0.          0.        ]\n"
     ]
    }
   ],
   "source": [
    "# Use lasso regression from sklearn to learn the model parameters\n",
    "# alpha=0.004, max_iter=10000\n",
    "lasso_model = Lasso(alpha=0.004, max_iter=10000)\n",
    "lasso_model.fit(X_train_scaled, y_train)\n",
    "train_preds = lasso_model.predict(X_train_scaled)\n",
    "test_preds = lasso_model.predict(X_test_scaled)\n",
    "print(\"Learned intercept:\", lasso_model.intercept_)\n",
    "print(\"Learned parameters:\", lasso_model.coef_)\n",
    "\n"
   ]
  },
  {
   "cell_type": "markdown",
   "id": "ea76c77d",
   "metadata": {},
   "source": [
    "### Task 8: Lasso Performance Analysis\n",
    "\n",
    "**Evaluation Requirements:**\n",
    "- Calculate and output final RMSE for both training and test sets\n",
    "- **Sparsity Analysis**: Count and report how many coefficients are exactly zero\n",
    "- **Feature Selection**: Identify which polynomial terms were eliminated\n",
    "- **Compare**: How does Lasso sparsity compare to your custom L1 implementation?"
   ]
  },
  {
   "cell_type": "code",
   "execution_count": 32,
   "id": "f117ffcb",
   "metadata": {},
   "outputs": [
    {
     "name": "stdout",
     "output_type": "stream",
     "text": [
      "Final training RMSE:  0.11747428469868576\n",
      "Final test RMSE:  0.3432830980957859\n",
      "Number of 0 coefficients: 12\n",
      "Polynomial terms (x^i) eliminated for i: [ 1  3  4  5  6  9 10 11 12 13 14 15]\n"
     ]
    }
   ],
   "source": [
    "# output the final RMSE for the training and test set\n",
    "lasso_train_rmse = math.sqrt(mean_squared_error(y_train, train_preds))\n",
    "lasso_test_rmse = math.sqrt(mean_squared_error(y_test, test_preds))\n",
    "print(\"Final training RMSE: \",lasso_train_rmse)\n",
    "print(\"Final test RMSE: \", lasso_test_rmse)\n",
    "\n",
    "print(\"Number of 0 coefficients:\", np.sum(lasso_model.coef_ == 0))\n",
    "print(\"Polynomial terms (x^i) eliminated for i:\", np.where(lasso_model.coef_ == 0)[0] + 1)\n"
   ]
  },
  {
   "cell_type": "markdown",
   "id": "a2c370b3",
   "metadata": {},
   "source": [
    "**Comparison**:\n",
    "- Sklearn Lasso eliminated 12 out of 15 features, while custom Lasso did not completely eliminate any features.\n",
    "- Custom Lasso made 11 feature coefficients very close to zero (< 0.001) but not exactly zero.\n",
    "- Sklearn Lasso has more sparsity\n",
    "- Custom Lasso has higher training RMSE, but generalizes better on the test set, with a lower RMSE than the Sklearn implementation.\n"
   ]
  },
  {
   "cell_type": "markdown",
   "id": "f6cafaa5",
   "metadata": {},
   "source": [
    "## Comprehensive Analysis: Comparing All Approaches\n",
    "\n",
    "**Comparative Study Objectives:**\n",
    "- **Parameter Analysis**: How do learned weights differ across methods?\n",
    "- **Performance Evaluation**: Which approach generalizes best?\n",
    "- **Implementation Insights**: Custom vs. professional implementations  \n",
    "- **Method Selection**: When to use L1 vs. L2 vs. no regularization\n",
    "\n",
    "**Expected Discoveries:**\n",
    "- Regularized models should show better generalization (lower test RMSE)\n",
    "- L1 methods should produce sparse solutions with zero coefficients\n",
    "- L2 methods should shrink all parameters uniformly\n",
    "- Professional implementations may outperform custom gradient descent"
   ]
  },
  {
   "cell_type": "markdown",
   "id": "c0f80302",
   "metadata": {},
   "source": [
    "### Task 9: Parameter Comparison Matrix\n",
    "\n",
    "**Create a comprehensive DataFrame comparing all learned parameters:**\n",
    "\n",
    "**Models to Include:**\n",
    "\n",
    "- Vanilla GD (baseline overfitted model)\n",
    "- Custom L2 Regularization (Ridge)\n",
    "- Custom L1 Regularization (Lasso) \n",
    "- Sklearn Ridge Regression\n",
    "- Sklearn Lasso Regression\n",
    "\n",
    "**DataFrame Structure:**\n",
    "\n",
    "- **Rows**: Each polynomial feature (x¹, x², ..., x¹⁵) + bias term\n",
    "- **Columns**: Each model's learned parameters\n",
    "- **Analysis**: Identify patterns, sparsity, parameter magnitude differences\n",
    "\n",
    "**Key Questions to Investigate:**\n",
    "\n",
    "1. Which coefficients does L1 drive to zero?\n",
    "2. How do L2 parameters compare in magnitude to unregularized?\n",
    "3. Are sklearn and custom implementations learning similar patterns?\n",
    "\n",
    "- **Rows**: Each polynomial feature (x¹, x², ..., x¹⁵) + bias term\n",
    "\n",
    "**Models to Include:**\n",
    "\n",
    "- Vanilla GD (baseline overfitted model)\n",
    "\n",
    "- Custom L2 Regularization (Ridge)- Sklearn Lasso Regression\n",
    "\n",
    "- Custom L1 Regularization (Lasso) - Sklearn Ridge Regression"
   ]
  },
  {
   "cell_type": "code",
   "execution_count": 33,
   "id": "6b487a2e",
   "metadata": {},
   "outputs": [
    {
     "data": {
      "application/vnd.microsoft.datawrangler.viewer.v0+json": {
       "columns": [
        {
         "name": "index",
         "rawType": "object",
         "type": "string"
        },
        {
         "name": "Vanilla GD",
         "rawType": "float64",
         "type": "float"
        },
        {
         "name": "Custom L1",
         "rawType": "float64",
         "type": "float"
        },
        {
         "name": "Sklearn Lasso",
         "rawType": "float64",
         "type": "float"
        },
        {
         "name": "Custom L2",
         "rawType": "float64",
         "type": "float"
        },
        {
         "name": "SklearnRidge",
         "rawType": "float64",
         "type": "float"
        }
       ],
       "ref": "f2a94089-d77b-4dd8-820a-75accbe49a20",
       "rows": [
        [
         "Bias",
         "-0.09443169035226862",
         "-0.09443169035226888",
         "-0.09443169035226888",
         "-0.09443169035226896",
         "-0.09443169035226882"
        ],
        [
         "x_1",
         "1.4510105652899234",
         "-0.0002426604015923816",
         "-0.0",
         "-0.12710523905078847",
         "0.6831714637277202"
        ],
        [
         "x_2",
         "-3.311382859620508",
         "-1.267701702581374",
         "-1.2780048812695448",
         "-0.8408717256505625",
         "-2.0786471281642145"
        ],
        [
         "x_3",
         "-1.4658041166026419",
         "-0.00015004655502982986",
         "-0.0",
         "-0.46145683050545766",
         "-1.011328774407788"
        ],
        [
         "x_4",
         "0.4990377972782886",
         "0.00022785034791013596",
         "0.0",
         "-0.04360064211166703",
         "0.19163620075825571"
        ],
        [
         "x_5",
         "1.3529237646057357",
         "0.0008301611745627679",
         "0.0",
         "0.184384831976719",
         "0.768876863460004"
        ],
        [
         "x_6",
         "1.4323925486362945",
         "0.000719878653882056",
         "0.0",
         "0.2632805322075808",
         "0.8794034930645338"
        ],
        [
         "x_7",
         "1.1546705446456398",
         "0.4333456414027066",
         "0.5762401251227606",
         "0.260122098814685",
         "0.7548844743744132"
        ],
        [
         "x_8",
         "0.7690849508612981",
         "0.5636828300917873",
         "0.49526163541072526",
         "0.2202555071216306",
         "0.5432404404748682"
        ],
        [
         "x_9",
         "0.3934164982226936",
         "0.06311805010134378",
         "0.0",
         "0.16868462066332673",
         "0.32025101523849553"
        ],
        [
         "x_10",
         "0.07228945624699058",
         "0.0007477590745158206",
         "0.0",
         "0.11767676232446034",
         "0.11897938781706055"
        ],
        [
         "x_11",
         "-0.184788279349212",
         "0.0005957050096936923",
         "0.0",
         "0.07246361271520438",
         "-0.0496226719197894"
        ],
        [
         "x_12",
         "-0.3830308184056627",
         "0.00040878883805038494",
         "0.0",
         "0.034657989288374734",
         "-0.18499861030327133"
        ],
        [
         "x_13",
         "-0.5324584246162456",
         "0.0005496909948545779",
         "0.0",
         "0.00414511591353019",
         "-0.29087520763956226"
        ],
        [
         "x_14",
         "-0.6434920597739675",
         "0.0004099604939604676",
         "0.0",
         "-0.019916626282552318",
         "-0.3722643486712885"
        ],
        [
         "x_15",
         "-0.7252563829933222",
         "0.0006918743261795782",
         "0.0",
         "-0.03858885761476625",
         "-0.43409920450248957"
        ]
       ],
       "shape": {
        "columns": 5,
        "rows": 16
       }
      },
      "text/html": [
       "<div>\n",
       "<style scoped>\n",
       "    .dataframe tbody tr th:only-of-type {\n",
       "        vertical-align: middle;\n",
       "    }\n",
       "\n",
       "    .dataframe tbody tr th {\n",
       "        vertical-align: top;\n",
       "    }\n",
       "\n",
       "    .dataframe thead th {\n",
       "        text-align: right;\n",
       "    }\n",
       "</style>\n",
       "<table border=\"1\" class=\"dataframe\">\n",
       "  <thead>\n",
       "    <tr style=\"text-align: right;\">\n",
       "      <th></th>\n",
       "      <th>Vanilla GD</th>\n",
       "      <th>Custom L1</th>\n",
       "      <th>Sklearn Lasso</th>\n",
       "      <th>Custom L2</th>\n",
       "      <th>SklearnRidge</th>\n",
       "    </tr>\n",
       "  </thead>\n",
       "  <tbody>\n",
       "    <tr>\n",
       "      <th>Bias</th>\n",
       "      <td>-0.094432</td>\n",
       "      <td>-0.094432</td>\n",
       "      <td>-0.094432</td>\n",
       "      <td>-0.094432</td>\n",
       "      <td>-0.094432</td>\n",
       "    </tr>\n",
       "    <tr>\n",
       "      <th>x_1</th>\n",
       "      <td>1.451011</td>\n",
       "      <td>-0.000243</td>\n",
       "      <td>-0.000000</td>\n",
       "      <td>-0.127105</td>\n",
       "      <td>0.683171</td>\n",
       "    </tr>\n",
       "    <tr>\n",
       "      <th>x_2</th>\n",
       "      <td>-3.311383</td>\n",
       "      <td>-1.267702</td>\n",
       "      <td>-1.278005</td>\n",
       "      <td>-0.840872</td>\n",
       "      <td>-2.078647</td>\n",
       "    </tr>\n",
       "    <tr>\n",
       "      <th>x_3</th>\n",
       "      <td>-1.465804</td>\n",
       "      <td>-0.000150</td>\n",
       "      <td>-0.000000</td>\n",
       "      <td>-0.461457</td>\n",
       "      <td>-1.011329</td>\n",
       "    </tr>\n",
       "    <tr>\n",
       "      <th>x_4</th>\n",
       "      <td>0.499038</td>\n",
       "      <td>0.000228</td>\n",
       "      <td>0.000000</td>\n",
       "      <td>-0.043601</td>\n",
       "      <td>0.191636</td>\n",
       "    </tr>\n",
       "    <tr>\n",
       "      <th>x_5</th>\n",
       "      <td>1.352924</td>\n",
       "      <td>0.000830</td>\n",
       "      <td>0.000000</td>\n",
       "      <td>0.184385</td>\n",
       "      <td>0.768877</td>\n",
       "    </tr>\n",
       "    <tr>\n",
       "      <th>x_6</th>\n",
       "      <td>1.432393</td>\n",
       "      <td>0.000720</td>\n",
       "      <td>0.000000</td>\n",
       "      <td>0.263281</td>\n",
       "      <td>0.879403</td>\n",
       "    </tr>\n",
       "    <tr>\n",
       "      <th>x_7</th>\n",
       "      <td>1.154671</td>\n",
       "      <td>0.433346</td>\n",
       "      <td>0.576240</td>\n",
       "      <td>0.260122</td>\n",
       "      <td>0.754884</td>\n",
       "    </tr>\n",
       "    <tr>\n",
       "      <th>x_8</th>\n",
       "      <td>0.769085</td>\n",
       "      <td>0.563683</td>\n",
       "      <td>0.495262</td>\n",
       "      <td>0.220256</td>\n",
       "      <td>0.543240</td>\n",
       "    </tr>\n",
       "    <tr>\n",
       "      <th>x_9</th>\n",
       "      <td>0.393416</td>\n",
       "      <td>0.063118</td>\n",
       "      <td>0.000000</td>\n",
       "      <td>0.168685</td>\n",
       "      <td>0.320251</td>\n",
       "    </tr>\n",
       "    <tr>\n",
       "      <th>x_10</th>\n",
       "      <td>0.072289</td>\n",
       "      <td>0.000748</td>\n",
       "      <td>0.000000</td>\n",
       "      <td>0.117677</td>\n",
       "      <td>0.118979</td>\n",
       "    </tr>\n",
       "    <tr>\n",
       "      <th>x_11</th>\n",
       "      <td>-0.184788</td>\n",
       "      <td>0.000596</td>\n",
       "      <td>0.000000</td>\n",
       "      <td>0.072464</td>\n",
       "      <td>-0.049623</td>\n",
       "    </tr>\n",
       "    <tr>\n",
       "      <th>x_12</th>\n",
       "      <td>-0.383031</td>\n",
       "      <td>0.000409</td>\n",
       "      <td>0.000000</td>\n",
       "      <td>0.034658</td>\n",
       "      <td>-0.184999</td>\n",
       "    </tr>\n",
       "    <tr>\n",
       "      <th>x_13</th>\n",
       "      <td>-0.532458</td>\n",
       "      <td>0.000550</td>\n",
       "      <td>0.000000</td>\n",
       "      <td>0.004145</td>\n",
       "      <td>-0.290875</td>\n",
       "    </tr>\n",
       "    <tr>\n",
       "      <th>x_14</th>\n",
       "      <td>-0.643492</td>\n",
       "      <td>0.000410</td>\n",
       "      <td>0.000000</td>\n",
       "      <td>-0.019917</td>\n",
       "      <td>-0.372264</td>\n",
       "    </tr>\n",
       "    <tr>\n",
       "      <th>x_15</th>\n",
       "      <td>-0.725256</td>\n",
       "      <td>0.000692</td>\n",
       "      <td>0.000000</td>\n",
       "      <td>-0.038589</td>\n",
       "      <td>-0.434099</td>\n",
       "    </tr>\n",
       "  </tbody>\n",
       "</table>\n",
       "</div>"
      ],
      "text/plain": [
       "      Vanilla GD  Custom L1  Sklearn Lasso  Custom L2  SklearnRidge\n",
       "Bias   -0.094432  -0.094432      -0.094432  -0.094432     -0.094432\n",
       "x_1     1.451011  -0.000243      -0.000000  -0.127105      0.683171\n",
       "x_2    -3.311383  -1.267702      -1.278005  -0.840872     -2.078647\n",
       "x_3    -1.465804  -0.000150      -0.000000  -0.461457     -1.011329\n",
       "x_4     0.499038   0.000228       0.000000  -0.043601      0.191636\n",
       "x_5     1.352924   0.000830       0.000000   0.184385      0.768877\n",
       "x_6     1.432393   0.000720       0.000000   0.263281      0.879403\n",
       "x_7     1.154671   0.433346       0.576240   0.260122      0.754884\n",
       "x_8     0.769085   0.563683       0.495262   0.220256      0.543240\n",
       "x_9     0.393416   0.063118       0.000000   0.168685      0.320251\n",
       "x_10    0.072289   0.000748       0.000000   0.117677      0.118979\n",
       "x_11   -0.184788   0.000596       0.000000   0.072464     -0.049623\n",
       "x_12   -0.383031   0.000409       0.000000   0.034658     -0.184999\n",
       "x_13   -0.532458   0.000550       0.000000   0.004145     -0.290875\n",
       "x_14   -0.643492   0.000410       0.000000  -0.019917     -0.372264\n",
       "x_15   -0.725256   0.000692       0.000000  -0.038589     -0.434099"
      ]
     },
     "execution_count": 33,
     "metadata": {},
     "output_type": "execute_result"
    }
   ],
   "source": [
    "#putting all the parameters from the above models in a dataframe, adding the bias term to the model parameters\n",
    "df = pd.DataFrame({\n",
    "    'Vanilla GD': w_vanilla,\n",
    "    'Custom L1': [GD_L1_w[0]] + list(GD_L1_w[1:]),\n",
    "    'Sklearn Lasso': [lasso_model.intercept_] + list(lasso_model.coef_),\n",
    "    'Custom L2': [GD_L2_w[0]] + list(GD_L2_w[1:]),\n",
    "    'SklearnRidge': [ridge_model.intercept_] + list(ridge_model.coef_)\n",
    "}, index=['Bias'] + [\"x_1\"] + list(data.columns[2:]))\n",
    "\n",
    "df.head(20)\n"
   ]
  },
  {
   "cell_type": "markdown",
   "id": "453b0b06",
   "metadata": {},
   "source": [
    "### Task 10: Performance Leaderboard Analysis\n",
    "\n",
    "**Expected Insights**: Regularized models should show better generalization!\n",
    "\n",
    "**Create a comprehensive performance comparison:**\n",
    "\n",
    "* How do custom implementations compare to sklearn?\n",
    "* When would you choose L1 vs L2 regularization?\n",
    "\n",
    "**Metrics to Compare:**\n",
    "\n",
    "**Metrics to Compare:**\n",
    "\n",
    "- Training RMSE (overfitting indicator)\n",
    "- Test RMSE (generalization measure) \n",
    "- Generalization Gap (Test RMSE - Train RMSE)\n",
    "- Number of Zero Coefficients (sparsity measure)\n",
    "\n",
    "**Analysis Questions:**\n",
    "\n",
    "1. Which method has the best test performance?\n",
    "2. Which method shows least overfitting (smallest gap)?\n",
    "3. How do custom implementations compare to sklearn?\n",
    "4. When would you choose L1 vs L2 regularization?\n",
    "\n",
    "**Expected Insights**: Regularized models should show better generalization!"
   ]
  },
  {
   "cell_type": "markdown",
   "id": "38827819",
   "metadata": {},
   "source": [
    "1. Which method has the best test performance?\n",
    "    The method with the best test performance is the vanilla gradient descent - test RMSE is the lowest at about 0.22.\n",
    "2. Which method shows least overfitting (smallest gap)?\n",
    "    The method with the least overfitting is the custom L1 regularization - the generalization gap is the lowest at about 0.16.\n",
    "3. How do custom implementations compare to sklearn?\n",
    "    Custom L1 outperforms sklearn Lasso in train performance, test performance and generalization gap. Custom L2 slightly outperforms sklearn Ridge in test performance and generalization gap as well. Sklearn L2  slightly outperform custom L2 in terms of training RMSE.\n",
    "4. When would you choose L1 vs L2 regularization?\n",
    "    L1 regularization is useful when we want to perform feature selection, while L2 regularization is useful when we want to shrink the coefficients of all features."
   ]
  },
  {
   "cell_type": "code",
   "execution_count": 34,
   "id": "9d0720aa",
   "metadata": {},
   "outputs": [
    {
     "data": {
      "application/vnd.microsoft.datawrangler.viewer.v0+json": {
       "columns": [
        {
         "name": "index",
         "rawType": "object",
         "type": "string"
        },
        {
         "name": "Vanilla GD",
         "rawType": "float64",
         "type": "float"
        },
        {
         "name": "Custom L1",
         "rawType": "float64",
         "type": "float"
        },
        {
         "name": "Sklearn Lasso",
         "rawType": "float64",
         "type": "float"
        },
        {
         "name": "Custom L2",
         "rawType": "float64",
         "type": "float"
        },
        {
         "name": "Sklearn Ridge",
         "rawType": "float64",
         "type": "float"
        }
       ],
       "ref": "b6162068-db14-4e6e-93b7-4de39bc3cab8",
       "rows": [
        [
         "Train RMSE",
         "0.02750514893730219",
         "0.08346816108755611",
         "0.11747428469868576",
         "0.0857852789515362",
         "0.06859784497256222"
        ],
        [
         "Test RMSE",
         "0.22388332864957156",
         "0.2435447142672677",
         "0.3432830980957859",
         "0.2511820456697551",
         "0.25930279992193206"
        ],
        [
         "Generalization Gap",
         "0.19637817971226937",
         "0.1600765531797116",
         "0.22580881339710013",
         "0.1653967667182189",
         "0.19070495494936984"
        ],
        [
         "# of 0 coefficients",
         "0.0",
         "0.0",
         "12.0",
         "0.0",
         "0.0"
        ]
       ],
       "shape": {
        "columns": 5,
        "rows": 4
       }
      },
      "text/html": [
       "<div>\n",
       "<style scoped>\n",
       "    .dataframe tbody tr th:only-of-type {\n",
       "        vertical-align: middle;\n",
       "    }\n",
       "\n",
       "    .dataframe tbody tr th {\n",
       "        vertical-align: top;\n",
       "    }\n",
       "\n",
       "    .dataframe thead th {\n",
       "        text-align: right;\n",
       "    }\n",
       "</style>\n",
       "<table border=\"1\" class=\"dataframe\">\n",
       "  <thead>\n",
       "    <tr style=\"text-align: right;\">\n",
       "      <th></th>\n",
       "      <th>Vanilla GD</th>\n",
       "      <th>Custom L1</th>\n",
       "      <th>Sklearn Lasso</th>\n",
       "      <th>Custom L2</th>\n",
       "      <th>Sklearn Ridge</th>\n",
       "    </tr>\n",
       "  </thead>\n",
       "  <tbody>\n",
       "    <tr>\n",
       "      <th>Train RMSE</th>\n",
       "      <td>0.027505</td>\n",
       "      <td>0.083468</td>\n",
       "      <td>0.117474</td>\n",
       "      <td>0.085785</td>\n",
       "      <td>0.068598</td>\n",
       "    </tr>\n",
       "    <tr>\n",
       "      <th>Test RMSE</th>\n",
       "      <td>0.223883</td>\n",
       "      <td>0.243545</td>\n",
       "      <td>0.343283</td>\n",
       "      <td>0.251182</td>\n",
       "      <td>0.259303</td>\n",
       "    </tr>\n",
       "    <tr>\n",
       "      <th>Generalization Gap</th>\n",
       "      <td>0.196378</td>\n",
       "      <td>0.160077</td>\n",
       "      <td>0.225809</td>\n",
       "      <td>0.165397</td>\n",
       "      <td>0.190705</td>\n",
       "    </tr>\n",
       "    <tr>\n",
       "      <th># of 0 coefficients</th>\n",
       "      <td>0.000000</td>\n",
       "      <td>0.000000</td>\n",
       "      <td>12.000000</td>\n",
       "      <td>0.000000</td>\n",
       "      <td>0.000000</td>\n",
       "    </tr>\n",
       "  </tbody>\n",
       "</table>\n",
       "</div>"
      ],
      "text/plain": [
       "                     Vanilla GD  Custom L1  Sklearn Lasso  Custom L2  \\\n",
       "Train RMSE             0.027505   0.083468       0.117474   0.085785   \n",
       "Test RMSE              0.223883   0.243545       0.343283   0.251182   \n",
       "Generalization Gap     0.196378   0.160077       0.225809   0.165397   \n",
       "# of 0 coefficients    0.000000   0.000000      12.000000   0.000000   \n",
       "\n",
       "                     Sklearn Ridge  \n",
       "Train RMSE                0.068598  \n",
       "Test RMSE                 0.259303  \n",
       "Generalization Gap        0.190705  \n",
       "# of 0 coefficients       0.000000  "
      ]
     },
     "execution_count": 34,
     "metadata": {},
     "output_type": "execute_result"
    }
   ],
   "source": [
    "# putting all the RMSE values in a dataframe\n",
    "df = pd.DataFrame({\n",
    "    'Vanilla GD': [gd_rmse_train, gd_rmse_test, gd_rmse_test - gd_rmse_train, np.sum(w_vanilla[1:] == 0)],\n",
    "    'Custom L1': [gd_l1_rmse_train, gd_l1_rmse_test, gd_l1_rmse_test - gd_l1_rmse_train, np.sum(GD_L1_w[1:] == 0)],\n",
    "    'Sklearn Lasso': [lasso_train_rmse, lasso_test_rmse, lasso_test_rmse - lasso_train_rmse, np.sum(lasso_model.coef_ == 0)],\n",
    "    'Custom L2': [gd_l2_rmse_train, gd_l2_rmse_test, gd_l2_rmse_test - gd_l2_rmse_train, np.sum(GD_L2_w[1:] == 0)],\n",
    "    'Sklearn Ridge': [ridge_train_rmse, ridge_test_rmse, ridge_test_rmse - ridge_train_rmse, np.sum(ridge_model.coef_ == 0)]\n",
    "}, index=['Train RMSE', 'Test RMSE', 'Generalization Gap', '# of 0 coefficients'])\n",
    "\n",
    "df.head()\n",
    "\n"
   ]
  },
  {
   "cell_type": "markdown",
   "id": "4df9f5a4",
   "metadata": {},
   "source": [
    "## Congratulations! You've Mastered Regularized Machine Learning!\n",
    "\n",
    "\n",
    "### Key Achievements Unlocked:\n",
    "\n",
    "#### Technical Mastery\n",
    "\n",
    "* **Regularized Cost Functions**: Successfully extended MSE with L1/L2 penalty terms\n",
    "* **Advanced Gradient Descent**: Implemented vectorized algorithms with regularization\n",
    "* **Professional Tools**: Leveraged scikit-learn's optimized Lasso and Ridge implementations\n",
    "* **Comparative Analysis**: Systematically evaluated custom vs. professional approaches\n",
    "\n",
    "#### Conceptual Understanding \n",
    "\n",
    "* **Overfitting Recognition**: Identified and diagnosed overfitting through learning curves\n",
    "* **Bias-Variance Tradeoff**: Observed how regularization balances model complexity\n",
    "* **L1 vs L2 Intuition**: Understood sparsity (L1) vs. shrinkage (L2) effects\n",
    "* **Hyperparameter Impact**: Explored how λ controls regularization strength\n",
    "\n",
    "#### Professional Insights\n",
    "\n",
    "* **When to Regularize**: Small datasets + high dimensions = regularization essential\n",
    "* **Method Selection**: L1 for feature selection, L2 for smooth parameter shrinkage\n",
    "* **Implementation Choices**: Custom for learning, sklearn for production\n",
    "* **Performance Evaluation**: Always compare training vs. test performance\n",
    "\n",
    "### Real-World Applications\n",
    "\n",
    "You're now equipped to tackle overfitting in:\n",
    "\n",
    "- **Medical Diagnosis**: High-dimensional genomic data\n",
    "- **Financial Modeling**: Feature-rich economic indicators \n",
    "- **Image Recognition**: Pixel-level feature engineering\n",
    "- **Natural Language Processing**: Large vocabulary models\n",
    "\n",
    "**Next Steps**: Apply these techniques to your own datasets and explore advanced regularization methods like Elastic Net!"
   ]
  },
  {
   "cell_type": "markdown",
   "id": "6be7b4d0",
   "metadata": {},
   "source": [
    "## Reference\n",
    "\n",
    "Deeplearning.AI"
   ]
  },
  {
   "cell_type": "markdown",
   "id": "5f7ff7fa",
   "metadata": {},
   "source": []
  },
  {
   "cell_type": "code",
   "execution_count": null,
   "id": "e0f43aaf",
   "metadata": {},
   "outputs": [],
   "source": []
  }
 ],
 "metadata": {
  "kernelspec": {
   "display_name": ".venv (3.13.5)",
   "language": "python",
   "name": "python3"
  },
  "language_info": {
   "codemirror_mode": {
    "name": "ipython",
    "version": 3
   },
   "file_extension": ".py",
   "mimetype": "text/x-python",
   "name": "python",
   "nbconvert_exporter": "python",
   "pygments_lexer": "ipython3",
   "version": "3.13.5"
  }
 },
 "nbformat": 4,
 "nbformat_minor": 5
}
